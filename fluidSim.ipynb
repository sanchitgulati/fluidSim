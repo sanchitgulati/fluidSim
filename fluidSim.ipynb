{
  "nbformat": 4,
  "nbformat_minor": 0,
  "metadata": {
    "colab": {
      "provenance": [],
      "authorship_tag": "ABX9TyOe8c3R8Kg4c2jrJ6Su9NId",
      "include_colab_link": true
    },
    "kernelspec": {
      "name": "python3",
      "display_name": "Python 3"
    },
    "language_info": {
      "name": "python"
    }
  },
  "cells": [
    {
      "cell_type": "markdown",
      "metadata": {
        "id": "view-in-github",
        "colab_type": "text"
      },
      "source": [
        "<a href=\"https://colab.research.google.com/github/sanchitgulati/fluidSim/blob/main/fluidSim.ipynb\" target=\"_parent\"><img src=\"https://colab.research.google.com/assets/colab-badge.svg\" alt=\"Open In Colab\"/></a>"
      ]
    },
    {
      "cell_type": "code",
      "source": [
        "import numpy as np\n",
        "import math\n",
        "from matplotlib import pyplot as plt"
      ],
      "metadata": {
        "id": "onbZMCRq6uwO"
      },
      "execution_count": 208,
      "outputs": []
    },
    {
      "cell_type": "code",
      "source": [
        "overRelaxation = 1.0 # 1.9"
      ],
      "metadata": {
        "id": "Hz1zVNQO2MOH"
      },
      "execution_count": 209,
      "outputs": []
    },
    {
      "cell_type": "code",
      "source": [
        "U_FIELD = 0;\n",
        "V_FIELD = 1;\n",
        "S_FIELD = 2;"
      ],
      "metadata": {
        "id": "QG5WyY2F2znj"
      },
      "execution_count": 210,
      "outputs": []
    },
    {
      "cell_type": "code",
      "source": [
        "class Fluid:\n",
        "    def __init__(self, density, numX, numY, h):\n",
        "        self.density = density\n",
        "        self.numX = numX + 2\n",
        "        self.numY = numY + 2\n",
        "        self.h = h\n",
        "        self.u = np.empty((self.numX,self.numY), dtype=np.float32)\n",
        "        self.v = np.empty((self.numX,self.numY), dtype=np.float32)\n",
        "        self.newU = np.empty((self.numX,self.numY), dtype=np.float32)\n",
        "        self.newV = np.empty((self.numX,self.numY), dtype=np.float32)\n",
        "        self.p = np.empty((self.numX,self.numY), dtype=np.float32)\n",
        "        self.s = np.empty((self.numX,self.numY), dtype=np.float32)\n",
        "        self.m = np.empty((self.numX,self.numY), dtype=np.float32)\n",
        "        self.newM = np.empty((self.numX,self.numY), dtype=np.float32)\n",
        "        self.m.fill(1.0)\n",
        "        num = numX * numY\n",
        "\n",
        "    def integrate(self, dt, gravity):\n",
        "        n = self.numY\n",
        "        for i in range(1, self.numX):\n",
        "            for j in range(1, self.numY-1):\n",
        "                if self.s[i][j] != 0.0 and self.s[i][j-1] != 0.0:\n",
        "                    self.v[i][j] += gravity * dt\n",
        "\n",
        "\n",
        "\n",
        "    def solveIncompressibility(self, numIters, dt):\n",
        "        cp = self.density * self.h / dt\n",
        "\n",
        "        for iter in range(numIters):\n",
        "            for i in range(1, self.numX - 1):\n",
        "                for j in range(1, self.numY - 1):\n",
        "                    if self.s[i][j] == 0.0:\n",
        "                        continue\n",
        "                    s = self.s[i][j]\n",
        "                    sx0 = self.s[(i - 1)][j]\n",
        "                    sx1 = self.s[(i + 1)][j]\n",
        "                    sy0 = self.s[i][j - 1]\n",
        "                    sy1 = self.s[i][j + 1]\n",
        "                    s = sx0 + sx1 + sy0 + sy1\n",
        "                    if s == 0.0:\n",
        "                        continue\n",
        "                    div = (\n",
        "                        self.u[(i + 1)][j]\n",
        "                        - self.u[i][j]\n",
        "                        + self.v[i][j + 1]\n",
        "                        - self.v[i][j]\n",
        "                    )\n",
        "                    p = -div / s\n",
        "                    p *= overRelaxation\n",
        "                    self.p[i][j] += cp * p\n",
        "                    self.u[i][j] -= sx0 * p\n",
        "                    self.u[(i + 1)][j] += sx1 * p\n",
        "                    self.v[i][j] -= sy0 * p\n",
        "                    self.v[i][j + 1] += sy1 * p\n",
        "\n",
        "    def extrapolate(self):\n",
        "        n = self.numY\n",
        "        for i in range(self.numX):\n",
        "            self.u[i][0] = self.u[i][1]\n",
        "            self.u[i][self.numY - 1] = self.u[i][self.numY - 2]\n",
        "        for j in range(self.numY):\n",
        "            self.v[0][j] = self.v[1][j]\n",
        "            self.v[(self.numX - 1)][j] = self.v[(self.numX - 2)][j]\n",
        "\n",
        "    def sampleField(self, x, y, field):\n",
        "        n = self.numY\n",
        "        h = self.h\n",
        "        h1 = 1.0 / h\n",
        "        h2 = 0.5 * h\n",
        "\n",
        "        x = max(min(x, self.numX * h), h)\n",
        "        y = max(min(y, self.numY * h), h)\n",
        "\n",
        "        dx = 0.0\n",
        "        dy = 0.0\n",
        "\n",
        "        f = None\n",
        "\n",
        "        if field == U_FIELD:\n",
        "            f = self.u\n",
        "            dy = h2\n",
        "        elif field == V_FIELD:\n",
        "            f = self.v\n",
        "            dx = h2\n",
        "        elif field == S_FIELD:\n",
        "            f = self.m\n",
        "            dx = h2\n",
        "            dy = h2\n",
        "\n",
        "        x0 = min(math.floor((x - dx) * h1), self.numX - 1)\n",
        "        tx = ((x - dx) - x0 * h) * h1\n",
        "        x1 = min(x0 + 1, self.numX - 1)\n",
        "\n",
        "        y0 = min(math.floor((y - dy) * h1), self.numY - 1)\n",
        "        ty = ((y - dy) - y0 * h) * h1\n",
        "        y1 = min(y0 + 1, self.numY - 1)\n",
        "\n",
        "        sx = 1.0 - tx\n",
        "        sy = 1.0 - ty\n",
        "\n",
        "        val = (\n",
        "            sx * sy * f[x0][y0]\n",
        "            + tx * sy * f[x1][y0]\n",
        "            + tx * ty * f[x1][y1]\n",
        "            + sx * ty * f[x0][y1]\n",
        "        )\n",
        "\n",
        "        return val\n",
        "\n",
        "    def avgU(self, i, j):\n",
        "        n = self.numY\n",
        "        u = (\n",
        "            self.u[i][j - 1]\n",
        "            + self.u[i][j]\n",
        "            + self.u[(i + 1)][j - 1]\n",
        "            + self.u[(i + 1)][j]\n",
        "        ) * 0.25\n",
        "        return u\n",
        "\n",
        "    def avgV(self, i, j):\n",
        "        n = self.numY\n",
        "        v = (\n",
        "            self.v[(i - 1)][j]\n",
        "            + self.v[i][j]\n",
        "            + self.v[(i - 1)][j + 1]\n",
        "            + self.v[i][j + 1]\n",
        "        ) * 0.25\n",
        "        return v\n",
        "\n",
        "    def advectVel(self, dt):\n",
        "        self.newU = self.u.copy()\n",
        "        self.newV = self.v.copy()\n",
        "\n",
        "        n = self.numY\n",
        "        h = self.h\n",
        "        h2 = 0.5 * h\n",
        "\n",
        "        for i in range(1, self.numX):\n",
        "            for j in range(1, self.numY):\n",
        "                # u component\n",
        "                if (self.s[i][j] != 0.0 and self.s[(i - 1)][j] != 0.0 and j < self.numY - 1):\n",
        "                    x = i * h\n",
        "                    y = j * h + h2\n",
        "                    u = self.u[i][j]\n",
        "                    v = self.avgV(i, j)\n",
        "                    x = x - dt * u\n",
        "                    y = y - dt * v\n",
        "                    u = self.sampleField(x, y, U_FIELD)\n",
        "                    self.newU[i][j] = u\n",
        "                # v component\n",
        "                if (self.s[i][j] != 0.0 and self.s[i][j - 1] != 0.0 and i < self.numX - 1):\n",
        "                    x = i * h + h2\n",
        "                    y = j * h\n",
        "                    u = self.avgU(i, j)\n",
        "                    v = self.v[i][j]\n",
        "                    x = x - dt * u\n",
        "                    y = y - dt * v\n",
        "                    v = self.sampleField(x, y, V_FIELD)\n",
        "                    self.newV[i][j] = v\n",
        "\n",
        "        self.u = self.newU.copy()\n",
        "        self.v = self.newV.copy()\n",
        "\n",
        "    def advectSmoke(self, dt):\n",
        "        self.newM = self.m.copy()\n",
        "        h = self.h\n",
        "        h2 = 0.5 * h\n",
        "\n",
        "        for i in range(1, self.numX - 1):\n",
        "            for j in range(1, self.numY - 1):\n",
        "                if self.s[i][j] != 0.0:\n",
        "                    u = (self.u[i][j] + self.u[(i + 1)][j]) * 0.5\n",
        "                    v = (self.v[i][j] + self.v[i][j + 1]) * 0.5\n",
        "                    x = i * h + h2 - dt * u\n",
        "                    y = j * h + h2 - dt * v\n",
        "                    self.newM[i][j] = self.sampleField(x, y, S_FIELD)\n",
        "\n",
        "        self.m = self.newM.copy()\n",
        "\n",
        "    def simulate(self, dt, gravity, numIters):\n",
        "        self.integrate(dt, gravity)\n",
        "        self.p.fill(0.0)\n",
        "        self.solveIncompressibility(numIters, dt)\n",
        "        self.extrapolate()\n",
        "        self.advectVel(dt)\n",
        "        self.advectSmoke(dt)\n"
      ],
      "metadata": {
        "id": "HbRXyvxN6nd2"
      },
      "execution_count": 211,
      "outputs": []
    },
    {
      "cell_type": "code",
      "source": [
        "def getSciColor(val, minVal, maxVal):\n",
        "    val = min(max(val, minVal), maxVal- 0.0001)\n",
        "    d = maxVal - minVal\n",
        "    val = 0.5 if d == 0.0 else (val - minVal) / d\n",
        "    m = 0.25\n",
        "    num = int(val / m)\n",
        "    s = (val - num * m) / m\n",
        "    r, g, b = 0.0, 0.0, 0.0\n",
        "    if num == 0:\n",
        "        r, g, b = 0.0, s, 1.0\n",
        "    elif num == 1:\n",
        "        r, g, b = 0.0, 1.0, 1.0-s\n",
        "    elif num == 2:\n",
        "        r, g, b = s, 1.0, 0.0\n",
        "    elif num == 3:\n",
        "        r, g, b = 1.0, 1.0 - s, 0.0\n",
        "    return [int(255*r), int(255*g), int(255*b), 255]\n"
      ],
      "metadata": {
        "id": "X0JSc2tK8M1j"
      },
      "execution_count": 212,
      "outputs": []
    },
    {
      "cell_type": "code",
      "source": [
        "obstacleRadius = 0.15\n",
        "overRelaxation = 1.9\n",
        "dt = 1.0 / 60.0\n",
        "numIters = 40\n",
        "\n",
        "res = 50\n",
        "\n",
        "domainHeight = 1.0\n",
        "domainWidth = domainHeight\n",
        "h = domainHeight / res\n",
        "numX = int(domainWidth / h)\n",
        "numY = int(domainHeight / h)\n",
        "\n",
        "density = 1000.0\n",
        "\n",
        "f = Fluid(density, numX, numY, h)\n",
        "f.s.fill(1)\n",
        "f.s[0, :] = 0  # top row\n",
        "f.s[-1, :] = 0  # bottom row\n",
        "f.s[:, 0] = 0  # left column\n",
        "f.s[:, -1] = 0  # right column\n",
        "\n",
        "plt.imshow(f.s, interpolation='nearest')\n",
        "plt.show()\n",
        "gravity = -9.81\n",
        "showPressure = True\n"
      ],
      "metadata": {
        "id": "UfmwFGpL9VqE",
        "colab": {
          "base_uri": "https://localhost:8080/",
          "height": 267
        },
        "outputId": "ce24866e-a8fe-4aa8-eab7-71c248bba035"
      },
      "execution_count": 213,
      "outputs": [
        {
          "output_type": "display_data",
          "data": {
            "text/plain": [
              "<Figure size 432x288 with 1 Axes>"
            ],
            "image/png": "[encoded data removed]"
          },
          "metadata": {
            "needs_background": "light"
          }
        }
      ]
    },
    {
      "cell_type": "code",
      "source": [
        "for _ in range(10):\n",
        "  f.simulate(1.0,-9.8,40)\n",
        "  plt.show()"
      ],
      "metadata": {
        "id": "-RClOmze8eFz"
      },
      "execution_count": null,
      "outputs": []
    }
  ]
}